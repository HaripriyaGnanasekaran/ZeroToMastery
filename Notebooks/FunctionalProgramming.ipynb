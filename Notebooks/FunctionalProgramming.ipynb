{
 "cells": [
  {
   "cell_type": "markdown",
   "metadata": {},
   "source": [
    "#### Functional Programming  (With examples of some pure functions)  \n",
    "    Functional programming is all about separation of concerns (Functions). Each part is concerned with one thing that it is supposed to take care of. They also separate data and functions. "
   ]
  },
  {
   "cell_type": "markdown",
   "metadata": {},
   "source": [
    "`map()` is a pure function that takes in a action and an iterable. Applies the action over an iterable.\n",
    "This way you can neatly avoid creating an empty list or adding a for-loop."
   ]
  },
  {
   "cell_type": "code",
   "execution_count": 21,
   "metadata": {},
   "outputs": [
    {
     "name": "stdout",
     "output_type": "stream",
     "text": [
      "(2, 4, 6, 8, 6, 10, 12)\n"
     ]
    }
   ],
   "source": [
    "integers = (1, 2, 3, 4, 3, 5, 6)\n",
    "print(tuple(map(lambda num:num*2, integers)))"
   ]
  },
  {
   "cell_type": "markdown",
   "metadata": {},
   "source": [
    "`filter()` is also a pure function. It filters an interable and returns a new iterable."
   ]
  },
  {
   "cell_type": "code",
   "execution_count": 15,
   "metadata": {},
   "outputs": [
    {
     "name": "stdout",
     "output_type": "stream",
     "text": [
      "[2, 4, 6]\n"
     ]
    }
   ],
   "source": [
    "def only_even(number):\n",
    "    return number%2==0\n",
    "\n",
    "print(list(filter(only_even, integers)))"
   ]
  },
  {
   "cell_type": "markdown",
   "metadata": {},
   "source": [
    "`zip()` works like a zipper. Two iterables can be zipped together. So if you have a list, it can be zipped with another list as follows."
   ]
  },
  {
   "cell_type": "code",
   "execution_count": 18,
   "metadata": {},
   "outputs": [
    {
     "name": "stdout",
     "output_type": "stream",
     "text": [
      "{(1, 2, 2), (2, '8', 3), (3, 90, 5)}\n"
     ]
    }
   ],
   "source": [
    "print(set(zip(integers, [2, \"8\", 90], (2, 3, 5, 6))))"
   ]
  },
  {
   "cell_type": "markdown",
   "metadata": {},
   "source": [
    "`reduce()` from `functools` is a nice method that allows you to perform a reduction operation on an iteralble. Example as below."
   ]
  },
  {
   "cell_type": "code",
   "execution_count": 24,
   "metadata": {},
   "outputs": [
    {
     "data": {
      "text/plain": [
       "2160"
      ]
     },
     "execution_count": 24,
     "metadata": {},
     "output_type": "execute_result"
    }
   ],
   "source": [
    "from functools import reduce\n",
    "reduce(lambda i, j: i*j, integers, 1)"
   ]
  }
 ],
 "metadata": {
  "interpreter": {
   "hash": "65f5037b24dd73f68f64067e1175cddb5d7188da0a05674d0cf8d0695c431d9a"
  },
  "kernelspec": {
   "display_name": "Python 3.9.5 64-bit ('venv': venv)",
   "language": "python",
   "name": "python3"
  },
  "language_info": {
   "codemirror_mode": {
    "name": "ipython",
    "version": 3
   },
   "file_extension": ".py",
   "mimetype": "text/x-python",
   "name": "python",
   "nbconvert_exporter": "python",
   "pygments_lexer": "ipython3",
   "version": "3.9.5"
  },
  "orig_nbformat": 4
 },
 "nbformat": 4,
 "nbformat_minor": 2
}
