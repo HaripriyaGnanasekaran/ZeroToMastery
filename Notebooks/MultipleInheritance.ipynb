{
 "cells": [
  {
   "cell_type": "code",
   "execution_count": 8,
   "metadata": {},
   "outputs": [
    {
     "name": "stdout",
     "output_type": "stream",
     "text": [
      "Hi, I am Ram.\n",
      "I am 29 years old and I am a Male.\n"
     ]
    }
   ],
   "source": [
    "class Human:\n",
    "    def __init__(self, name, age, gender):\n",
    "        self._name = name\n",
    "        self._age = age\n",
    "        self._gender = gender\n",
    "    \n",
    "    def _introduce(self):\n",
    "        print(f\"Hi, I am {self._name}.\\nI am {self._age} years old and I am a {self._gender}.\")\n",
    "\n",
    "human_1 = Human(\"Ram\", 29, \"Male\")\n",
    "human_1._introduce()"
   ]
  },
  {
   "cell_type": "code",
   "execution_count": 9,
   "metadata": {},
   "outputs": [
    {
     "name": "stdout",
     "output_type": "stream",
     "text": [
      "Hi, I am Ram.\n",
      "I am 29 years old and I am a Male.\n",
      "Ram works as a Python Devloper.\n",
      "Ram is thus a working parent who has 1 kids.\n"
     ]
    }
   ],
   "source": [
    "class Worker(Human):\n",
    "    def __init__(self, name, age, gender, job):\n",
    "        super().__init__(name, age, gender)\n",
    "        self._job = job\n",
    "\n",
    "    def _introduce(self):\n",
    "        super()._introduce()\n",
    "        print(f\"{self._name} works as a {self._job}.\")\n",
    "\n",
    "\n",
    "class WorkingParent(Worker, Human):\n",
    "    def __init__(self, name, age, gender, job, kids):\n",
    "        super().__init__(name, age, gender, job)\n",
    "        self._kids = kids\n",
    "    \n",
    "    def _introduce(self):\n",
    "        super()._introduce()\n",
    "        print(f\"{self._name} is thus a working parent who has {self._kids} kids.\")\n",
    "\n",
    "\n",
    "# Modify the above classes such that the following code works.\n",
    "working_parent_1 = WorkingParent(\n",
    "    name=\"Ram\",\n",
    "    age=29, \n",
    "    gender=\"Male\", \n",
    "    job=\"Python Devloper\", \n",
    "    kids=\"1\",\n",
    ")\n",
    "working_parent_1._introduce()"
   ]
  },
  {
   "cell_type": "code",
   "execution_count": 10,
   "metadata": {},
   "outputs": [],
   "source": [
    "# Method Resolution Order. \n",
    "\n",
    "\n",
    "class One: \n",
    "    num=1\n",
    "class Two:\n",
    "    num=2\n",
    "class Three:\n",
    "    num=3\n",
    "\n",
    "class Four(One): pass\n",
    "class Five(Two, Three): pass\n",
    "\n",
    "class Six(Five, Four): pass\n",
    "\n",
    "# guess the correct value of Six.num\n"
   ]
  },
  {
   "cell_type": "code",
   "execution_count": null,
   "metadata": {},
   "outputs": [],
   "source": []
  }
 ],
 "metadata": {
  "interpreter": {
   "hash": "65f5037b24dd73f68f64067e1175cddb5d7188da0a05674d0cf8d0695c431d9a"
  },
  "kernelspec": {
   "display_name": "Python 3.9.5 64-bit ('venv': venv)",
   "language": "python",
   "name": "python3"
  },
  "language_info": {
   "codemirror_mode": {
    "name": "ipython",
    "version": 3
   },
   "file_extension": ".py",
   "mimetype": "text/x-python",
   "name": "python",
   "nbconvert_exporter": "python",
   "pygments_lexer": "ipython3",
   "version": "3.9.5"
  },
  "orig_nbformat": 4
 },
 "nbformat": 4,
 "nbformat_minor": 2
}
