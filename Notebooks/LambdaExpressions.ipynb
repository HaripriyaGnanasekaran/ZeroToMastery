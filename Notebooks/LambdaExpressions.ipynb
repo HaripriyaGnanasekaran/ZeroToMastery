{
 "cells": [
  {
   "cell_type": "code",
   "execution_count": 2,
   "metadata": {},
   "outputs": [
    {
     "name": "stdout",
     "output_type": "stream",
     "text": [
      "[(10, -1), (0, 2), (4, 3), (9, 9)]\n"
     ]
    },
    {
     "data": {
      "text/plain": [
       "[(10, -1), (0, 2), (4, 3), (9, 9)]"
      ]
     },
     "execution_count": 2,
     "metadata": {},
     "output_type": "execute_result"
    }
   ],
   "source": [
    "\n",
    "# sort the list of tuples based on second element of tuple, using lambda expression\n",
    "list_of_tuples = [(0,2), (4,3), (9,9), (10, -1)]\n",
    "\n",
    "from functools import reduce\n",
    "sorted = []\n",
    "copied_list = list_of_tuples.copy()\n",
    "for numbers in range(len(list_of_tuples)):\n",
    "    value = reduce(lambda x, y: x if x[1]<y[1] else y, copied_list)\n",
    "    sorted.append(value)\n",
    "    copied_list.remove(value)\n",
    "\n",
    "print(sorted)  \n",
    "# expected output\n",
    "[(10, -1), (0,2), (4,3), (9,9)]"
   ]
  },
  {
   "cell_type": "code",
   "execution_count": 6,
   "metadata": {},
   "outputs": [
    {
     "name": "stdout",
     "output_type": "stream",
     "text": [
      "[(10, -1), (0, 2), (4, 3), (9, 9)]\n"
     ]
    }
   ],
   "source": [
    "list_of_tuples.sort(key=lambda number:number[1])\n",
    "print(list_of_tuples)"
   ]
  },
  {
   "cell_type": "code",
   "execution_count": null,
   "metadata": {},
   "outputs": [],
   "source": []
  }
 ],
 "metadata": {
  "interpreter": {
   "hash": "65f5037b24dd73f68f64067e1175cddb5d7188da0a05674d0cf8d0695c431d9a"
  },
  "kernelspec": {
   "display_name": "Python 3.9.5 64-bit ('venv': venv)",
   "language": "python",
   "name": "python3"
  },
  "language_info": {
   "codemirror_mode": {
    "name": "ipython",
    "version": 3
   },
   "file_extension": ".py",
   "mimetype": "text/x-python",
   "name": "python",
   "nbconvert_exporter": "python",
   "pygments_lexer": "ipython3",
   "version": "3.9.5"
  },
  "orig_nbformat": 4
 },
 "nbformat": 4,
 "nbformat_minor": 2
}
