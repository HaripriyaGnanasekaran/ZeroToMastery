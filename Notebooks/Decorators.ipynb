{
 "cells": [
  {
   "cell_type": "code",
   "execution_count": 35,
   "metadata": {},
   "outputs": [],
   "source": [
    "def authenticator(function_):\n",
    "    def wrapper(*args):\n",
    "        function_(*args) if (args[0]['valid']) else None\n",
    "    return wrapper\n",
    "\n",
    "user = {'name': 'Sonia', 'valid': False}\n",
    "\n",
    "@authenticator\n",
    "def message_friends(user):\n",
    "    print(\"Message sent.\")\n",
    "\n",
    "message = message_friends(user)"
   ]
  },
  {
   "cell_type": "code",
   "execution_count": null,
   "metadata": {},
   "outputs": [],
   "source": []
  }
 ],
 "metadata": {
  "interpreter": {
   "hash": "65f5037b24dd73f68f64067e1175cddb5d7188da0a05674d0cf8d0695c431d9a"
  },
  "kernelspec": {
   "display_name": "Python 3.9.5 64-bit ('venv': venv)",
   "language": "python",
   "name": "python3"
  },
  "language_info": {
   "codemirror_mode": {
    "name": "ipython",
    "version": 3
   },
   "file_extension": ".py",
   "mimetype": "text/x-python",
   "name": "python",
   "nbconvert_exporter": "python",
   "pygments_lexer": "ipython3",
   "version": "3.9.5"
  },
  "orig_nbformat": 4
 },
 "nbformat": 4,
 "nbformat_minor": 2
}
